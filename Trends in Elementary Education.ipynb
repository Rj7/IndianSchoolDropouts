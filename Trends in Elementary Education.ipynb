{
 "cells": [
  {
   "cell_type": "code",
   "execution_count": 6,
   "metadata": {
    "collapsed": true
   },
   "outputs": [],
   "source": [
    "import pandas as pd\n",
    "import csv\n",
    "import matplotlib as mp\n",
    "import os"
   ]
  },
  {
   "cell_type": "code",
   "execution_count": 136,
   "metadata": {
    "collapsed": true
   },
   "outputs": [],
   "source": [
    "\n",
    "india_folder = 'data/trends/'"
   ]
  },
  {
   "cell_type": "code",
   "execution_count": 147,
   "metadata": {
    "collapsed": true
   },
   "outputs": [],
   "source": [
    "columns = ['indicators', '2005-06', '2007-08', '2008-09', '2009-10', '2010-11','2011-12', '2012-13', '2013-14', '2014-15', '2015-16']\n",
    "india = pd.DataFrame(columns=columns)"
   ]
  },
  {
   "cell_type": "code",
   "execution_count": 157,
   "metadata": {
    "collapsed": false,
    "scrolled": true
   },
   "outputs": [
    {
     "name": "stdout",
     "output_type": "stream",
     "text": [
      "Length mismatch: Expected axis has 12 elements, new values have 11 elements\n",
      "haryana\n",
      "Index(['School Indicators6.2', '2005-06', '2007-08', '2008-09', '2009-10',\n",
      "       '2010-11', '2011-12', '2012-13', '2013-14', '2014-15', '2015-16',\n",
      "       'Unnamed: 11'],\n",
      "      dtype='object')\n",
      "                          School Indicators6.2 2005-06  2007-08  2008-09  \\\n",
      "0               Number of Distric4t.s5 Covered      19     20.0     20.0   \n",
      "1                          Total Schools\\r11.0   13559  17743.0  18947.0   \n",
      "2                     Total Government Schools       -  14729.0  15460.0   \n",
      "3                        Total Private Schools       -   3008.0   3480.0   \n",
      "4   Ratio of Primary to U.PrimaryS1c1h.6./Sec.     2.1      1.6      1.5   \n",
      "5       Primary Sch./Sec.per 1000 Child Popln.       4      5.0      6.0   \n",
      "6       U.Prim. Sch./Sec.per 1000 Child Popln.       3      5.0      6.0   \n",
      "7        % Single-Teacher Schools with Enr.≥15     6.2      3.2      2.8   \n",
      "8        % Enrolment in Single-Teacher Schools     3.0      1.3      1.1   \n",
      "9             % Schools with Enro6lm.7ent ≤ 50    14.9     13.4     13.4   \n",
      "10          % Schools with F4e.m8 ale Teachers    71.0     77.9     79.3   \n",
      "\n",
      "    2009-10  2010-11  2011-12  2012-13  2013-14  2014-15  2015-16  Unnamed: 11  \n",
      "0      21.0     21.0     21.0     21.0     21.0     21.0     21.0          NaN  \n",
      "1   18579.0  20869.0  21300.0  22004.0  21938.0  21791.0  22268.0          NaN  \n",
      "2   15153.0  14955.0  15021.0  14988.0  14974.0  14587.0  14598.0          NaN  \n",
      "3    3424.0   5235.0   5675.0   6461.0   6450.0   6638.0   6834.0          NaN  \n",
      "4       1.5      1.5      1.4      1.4      1.4      1.3      1.3          NaN  \n",
      "5       6.0      6.0      6.0      7.0      6.0      6.0      6.0          NaN  \n",
      "6       6.0      7.0      7.0      8.0      8.0      8.0      8.0          NaN  \n",
      "7       3.9      4.5      1.7      3.1      3.3      3.3      3.6          NaN  \n",
      "8       1.3      1.8      0.6      0.8      1.3      1.2      1.2          NaN  \n",
      "9      13.5     16.1     14.7     14.6     15.2     15.8     19.8          NaN  \n",
      "10     79.2     81.7     81.2     82.5    100.0     81.9     81.3          NaN  \n"
     ]
    }
   ],
   "source": [
    "try:\n",
    "    for item in os.listdir(india_folder):\n",
    "        if os.path.isdir(india_folder + item):\n",
    "            for csv_file in os.listdir(india_folder + item):\n",
    "                df = pd.read_csv(india_folder + item + \"/\" + csv_file)\n",
    "                df.columns = columns\n",
    "                df.to_csv(india_folder + item + \"/\" + item + \".csv\", index=False)\n",
    "                df = df[df.columns[:10]]\n",
    "except Exception as e:\n",
    "    print (e)\n",
    "    print (item)\n",
    "    print (df.columns)\n",
    "    print (df)\n",
    "    "
   ]
  },
  {
   "cell_type": "code",
   "execution_count": 130,
   "metadata": {
    "collapsed": false
   },
   "outputs": [
    {
     "data": {
      "text/html": [
       "<div>\n",
       "<table border=\"1\" class=\"dataframe\">\n",
       "  <thead>\n",
       "    <tr style=\"text-align: right;\">\n",
       "      <th></th>\n",
       "      <th>indicators</th>\n",
       "      <th>2005-06</th>\n",
       "      <th>2007-08</th>\n",
       "      <th>2008-09</th>\n",
       "      <th>2009-10</th>\n",
       "      <th>2010-11</th>\n",
       "      <th>2011-12</th>\n",
       "      <th>2012-13</th>\n",
       "      <th>2013-14</th>\n",
       "      <th>2014-15</th>\n",
       "      <th>2015-16</th>\n",
       "    </tr>\n",
       "  </thead>\n",
       "  <tbody>\n",
       "  </tbody>\n",
       "</table>\n",
       "</div>"
      ],
      "text/plain": [
       "Empty DataFrame\n",
       "Columns: [indicators, 2005-06, 2007-08, 2008-09, 2009-10, 2010-11, 2011-12, 2012-13, 2013-14, 2014-15, 2015-16]\n",
       "Index: []"
      ]
     },
     "execution_count": 130,
     "metadata": {},
     "output_type": "execute_result"
    }
   ],
   "source": [
    "\n",
    "india"
   ]
  },
  {
   "cell_type": "code",
   "execution_count": null,
   "metadata": {
    "collapsed": true
   },
   "outputs": [],
   "source": []
  }
 ],
 "metadata": {
  "kernelspec": {
   "display_name": "Python 3",
   "language": "python",
   "name": "python3"
  },
  "language_info": {
   "codemirror_mode": {
    "name": "ipython",
    "version": 3
   },
   "file_extension": ".py",
   "mimetype": "text/x-python",
   "name": "python",
   "nbconvert_exporter": "python",
   "pygments_lexer": "ipython3",
   "version": "3.5.2"
  }
 },
 "nbformat": 4,
 "nbformat_minor": 2
}
