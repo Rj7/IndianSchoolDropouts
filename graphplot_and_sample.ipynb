{
 "cells": [
  {
   "cell_type": "code",
   "execution_count": 6,
   "metadata": {
    "collapsed": true
   },
   "outputs": [],
   "source": [
    "import pandas as pd\n",
    "import csv\n",
    "import matplotlib as mp\n",
    "import numpy as np\n",
    "import os\n",
    "from IPython.display import display, HTML\n",
    "import graphlab as gl\n",
    "from graphlab import SFrame\n",
    "\n",
    "india_folder = 'data/All_States/Transistion_prim_to_UPrim_regression/'"
   ]
  },
  {
   "cell_type": "code",
   "execution_count": 23,
   "metadata": {
    "collapsed": false
   },
   "outputs": [
    {
     "name": "stdout",
     "output_type": "stream",
     "text": [
      "'name'\n"
     ]
    }
   ],
   "source": [
    "try:   \n",
    "    frame = pd.DataFrame()\n",
    "    list_ = []\n",
    "    for csv_file in os.listdir(india_folder):\n",
    "        df = pd.read_csv(india_folder + csv_file,index_col=None, header=0)\n",
    "        frame[csv_file] = df['name']\n",
    "#             list_.append(df)\n",
    "                    \n",
    "#                     frame = pd.concat(list_)\n",
    "#                     frame.to_csv(india_folder + item + \"/\" + item + \".csv\", index=False)\n",
    "#     display(frame)\n",
    "    frame = frame.transpose()\n",
    "    display(frame)\n",
    "#     frame.to_csv(india_folder +\"columns.csv\", index=False)\n",
    "    print frame['karnataka_result.csv'].tolist()\n",
    "except Exception as e:\n",
    "    print (e)\n",
    " \n",
    "    "
   ]
  },
  {
   "cell_type": "code",
   "execution_count": null,
   "metadata": {
    "collapsed": true
   },
   "outputs": [],
   "source": []
  }
 ],
 "metadata": {
  "kernelspec": {
   "display_name": "Python [conda env:gl-env]",
   "language": "python",
   "name": "conda-env-gl-env-py"
  },
  "language_info": {
   "codemirror_mode": {
    "name": "ipython",
    "version": 2
   },
   "file_extension": ".py",
   "mimetype": "text/x-python",
   "name": "python",
   "nbconvert_exporter": "python",
   "pygments_lexer": "ipython2",
   "version": "2.7.11"
  }
 },
 "nbformat": 4,
 "nbformat_minor": 1
}
