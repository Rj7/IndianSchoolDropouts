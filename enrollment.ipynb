{
 "cells": [
  {
   "cell_type": "code",
   "execution_count": 3,
   "metadata": {
    "collapsed": false,
    "nbpresent": {
     "id": "cc4a5dde-2ad9-4e81-b8f4-65038a034dea"
    }
   },
   "outputs": [],
   "source": [
    "import numpy as np\n",
    "import csv as csv"
   ]
  },
  {
   "cell_type": "code",
   "execution_count": 22,
   "metadata": {
    "collapsed": false,
    "nbpresent": {
     "id": "9acdcada-2a43-471b-a377-1dfcc54730a3"
    }
   },
   "outputs": [],
   "source": [
    "csvdata = csv.reader(open(\"test.csv\"))"
   ]
  },
  {
   "cell_type": "code",
   "execution_count": 23,
   "metadata": {
    "collapsed": false,
    "nbpresent": {
     "id": "59875b82-2993-43a3-a99f-b211e33a791b"
    }
   },
   "outputs": [],
   "source": [
    "data = []\n",
    "for row in csvdata:\n",
    "    data.append(row)"
   ]
  },
  {
   "cell_type": "code",
   "execution_count": 27,
   "metadata": {
    "collapsed": false,
    "nbpresent": {
     "id": "c12e7717-d730-4cd6-b2d8-a859e05e7616"
    }
   },
   "outputs": [],
   "source": [
    "header = data[0]"
   ]
  },
  {
   "cell_type": "code",
   "execution_count": 31,
   "metadata": {
    "collapsed": false,
    "nbpresent": {
     "id": "d43aa90e-6004-4840-a6d3-182185cc7510"
    }
   },
   "outputs": [],
   "source": [
    "import pandas"
   ]
  },
  {
   "cell_type": "code",
   "execution_count": 51,
   "metadata": {
    "collapsed": false,
    "nbpresent": {
     "id": "b11f2690-a140-4c1e-b29f-6d4a06352975"
    }
   },
   "outputs": [],
   "source": [
    "import numpy as np\n",
    "import matplotlib.pyplot as plt\n",
    "%matplotlib inline\n",
    "import math"
   ]
  },
  {
   "cell_type": "code",
   "execution_count": 52,
   "metadata": {
    "collapsed": false,
    "nbpresent": {
     "id": "c04a6ccb-4be6-4322-a34c-d99a88cec10e"
    }
   },
   "outputs": [
    {
     "name": "stdout",
     "output_type": "stream",
     "text": [
      "1.0\n"
     ]
    }
   ],
   "source": [
    "print (np.sin(math.pi/2))\n",
    "pi = math.pi"
   ]
  },
  {
   "cell_type": "code",
   "execution_count": 53,
   "metadata": {
    "collapsed": false,
    "nbpresent": {
     "id": "7ac9eda0-001b-4dd5-ad69-874c18ab800e"
    }
   },
   "outputs": [],
   "source": [
    "x = np.linspace(0,2*pi, 100)"
   ]
  },
  {
   "cell_type": "code",
   "execution_count": 54,
   "metadata": {
    "collapsed": false,
    "nbpresent": {
     "id": "0ea5ab59-4905-4dc1-a231-67407007275c"
    }
   },
   "outputs": [],
   "source": [
    "y = np.sin(x)"
   ]
  },
  {
   "cell_type": "code",
   "execution_count": 55,
   "metadata": {
    "collapsed": false,
    "nbpresent": {
     "id": "baecd47c-5b77-468c-997e-890f22761d85"
    }
   },
   "outputs": [
    {
     "data": {
      "text/plain": [
       "[<matplotlib.lines.Line2D at 0x7f6ef49e65c0>]"
      ]
     },
     "execution_count": 55,
     "metadata": {},
     "output_type": "execute_result"
    },
    {
     "data": {
      "image/png": "[encoded data removed]",
      "text/plain": [
       "<matplotlib.figure.Figure at 0x7f6f20ad45f8>"
      ]
     },
     "metadata": {},
     "output_type": "display_data"
    }
   ],
   "source": [
    "plt.plot(x,y)"
   ]
  },
  {
   "cell_type": "code",
   "execution_count": 56,
   "metadata": {
    "collapsed": true,
    "nbpresent": {
     "id": "ddf3667a-60cd-4c22-b356-a86c4b219572"
    }
   },
   "outputs": [],
   "source": [
    "N = np.random.randn(100)"
   ]
  },
  {
   "cell_type": "code",
   "execution_count": 58,
   "metadata": {
    "collapsed": false,
    "nbpresent": {
     "id": "6d0af88a-7474-40a1-9cd3-000d1279010b"
    }
   },
   "outputs": [
    {
     "data": {
      "text/plain": [
       "(array([  5.,   1.,   5.,  10.,  20.,  22.,  17.,  11.,   8.,   1.]),\n",
       " array([-2.47591697, -1.97520927, -1.47450156, -0.97379386, -0.47308616,\n",
       "         0.02762154,  0.52832925,  1.02903695,  1.52974465,  2.03045235,\n",
       "         2.53116005]),\n",
       " <a list of 10 Patch objects>)"
      ]
     },
     "execution_count": 58,
     "metadata": {},
     "output_type": "execute_result"
    },
    {
     "data": {
      "image/png": "[encoded data removed]",
      "text/plain": [
       "<matplotlib.figure.Figure at 0x7f6ef4cad2b0>"
      ]
     },
     "metadata": {},
     "output_type": "display_data"
    }
   ],
   "source": [
    "plt.hist(N,bins=10)"
   ]
  },
  {
   "cell_type": "code",
   "execution_count": 63,
   "metadata": {
    "collapsed": false,
    "nbpresent": {
     "id": "636ee382-5a41-41e7-bf00-6ecfa1838acf"
    }
   },
   "outputs": [
    {
     "data": {
      "text/plain": [
       "{'boxes': [<matplotlib.lines.Line2D at 0x7f6ef4b0fda0>],\n",
       " 'caps': [<matplotlib.lines.Line2D at 0x7f6ef4af0668>,\n",
       "  <matplotlib.lines.Line2D at 0x7f6ef4af0438>],\n",
       " 'fliers': [<matplotlib.lines.Line2D at 0x7f6ef4afbfd0>],\n",
       " 'means': [],\n",
       " 'medians': [<matplotlib.lines.Line2D at 0x7f6ef4afb208>],\n",
       " 'whiskers': [<matplotlib.lines.Line2D at 0x7f6ef4b0ff28>,\n",
       "  <matplotlib.lines.Line2D at 0x7f6ef4b12fd0>]}"
      ]
     },
     "execution_count": 63,
     "metadata": {},
     "output_type": "execute_result"
    },
    {
     "data": {
      "image/png": "[encoded data removed]",
      "text/plain": [
       "<matplotlib.figure.Figure at 0x7f6ef4e946d8>"
      ]
     },
     "metadata": {},
     "output_type": "display_data"
    }
   ],
   "source": [
    "plt.boxplot(N)"
   ]
  },
  {
   "cell_type": "code",
   "execution_count": 67,
   "metadata": {
    "collapsed": false,
    "nbpresent": {
     "id": "209b06ef-284f-481b-ad78-f33b2faeb130"
    }
   },
   "outputs": [],
   "source": [
    "from scipy import stats"
   ]
  },
  {
   "cell_type": "code",
   "execution_count": 70,
   "metadata": {
    "collapsed": false,
    "nbpresent": {
     "id": "0d6fb707-85f0-4298-8ce2-e74ffc5c655f"
    }
   },
   "outputs": [],
   "source": [
    "pandasN = pandas.DataFrame(N)"
   ]
  },
  {
   "cell_type": "code",
   "execution_count": 71,
   "metadata": {
    "collapsed": false,
    "nbpresent": {
     "id": "eb2c8a86-6122-4f22-9b31-fd621d4c9907"
    }
   },
   "outputs": [
    {
     "data": {
      "text/html": [
       "<div>\n",
       "<table border=\"1\" class=\"dataframe\">\n",
       "  <thead>\n",
       "    <tr style=\"text-align: right;\">\n",
       "      <th></th>\n",
       "      <th>0</th>\n",
       "    </tr>\n",
       "  </thead>\n",
       "  <tbody>\n",
       "    <tr>\n",
       "      <th>count</th>\n",
       "      <td>100.000000</td>\n",
       "    </tr>\n",
       "    <tr>\n",
       "      <th>mean</th>\n",
       "      <td>0.221231</td>\n",
       "    </tr>\n",
       "    <tr>\n",
       "      <th>std</th>\n",
       "      <td>0.989462</td>\n",
       "    </tr>\n",
       "    <tr>\n",
       "      <th>min</th>\n",
       "      <td>-2.475917</td>\n",
       "    </tr>\n",
       "    <tr>\n",
       "      <th>25%</th>\n",
       "      <td>-0.318226</td>\n",
       "    </tr>\n",
       "    <tr>\n",
       "      <th>50%</th>\n",
       "      <td>0.319888</td>\n",
       "    </tr>\n",
       "    <tr>\n",
       "      <th>75%</th>\n",
       "      <td>0.964669</td>\n",
       "    </tr>\n",
       "    <tr>\n",
       "      <th>max</th>\n",
       "      <td>2.531160</td>\n",
       "    </tr>\n",
       "  </tbody>\n",
       "</table>\n",
       "</div>"
      ],
      "text/plain": [
       "                0\n",
       "count  100.000000\n",
       "mean     0.221231\n",
       "std      0.989462\n",
       "min     -2.475917\n",
       "25%     -0.318226\n",
       "50%      0.319888\n",
       "75%      0.964669\n",
       "max      2.531160"
      ]
     },
     "execution_count": 71,
     "metadata": {},
     "output_type": "execute_result"
    }
   ],
   "source": [
    "pandasN.describe()"
   ]
  },
  {
   "cell_type": "code",
   "execution_count": 72,
   "metadata": {
    "collapsed": true,
    "nbpresent": {
     "id": "c38b30f6-6341-42c4-b08f-bc6571ebb9a3"
    }
   },
   "outputs": [],
   "source": [
    "data = {'name' : ['James', 'Jane', 'John', 'Jake','Audrey'],\n",
    "    'sex' : ['M', 'F', 'M', 'M', 'F'], \n",
    "    'age':[16,17,18,20,15], \n",
    "    'height':[77, 56, 66, 61, 50]}"
   ]
  },
  {
   "cell_type": "code",
   "execution_count": 74,
   "metadata": {
    "collapsed": true,
    "nbpresent": {
     "id": "6ebf7c86-b8a9-4fbf-9c28-72f903358b2b"
    }
   },
   "outputs": [],
   "source": [
    "import pandas as pd\n",
    "from pandas import Series, DataFrame"
   ]
  },
  {
   "cell_type": "code",
   "execution_count": 79,
   "metadata": {
    "collapsed": true,
    "nbpresent": {
     "id": "319ff1a0-0ceb-457f-ad27-17442a7b7e73"
    }
   },
   "outputs": [],
   "source": [
    "pdata = DataFrame(data, columns=['name','age','height','sex'])"
   ]
  },
  {
   "cell_type": "code",
   "execution_count": 83,
   "metadata": {
    "collapsed": false,
    "nbpresent": {
     "id": "d1488e4d-74f3-42a4-bc3a-0f92d9842c31"
    }
   },
   "outputs": [
    {
     "data": {
      "text/plain": [
       "age       17.2\n",
       "height    62.0\n",
       "dtype: float64"
      ]
     },
     "execution_count": 83,
     "metadata": {},
     "output_type": "execute_result"
    }
   ],
   "source": [
    "pdata.mean()"
   ]
  },
  {
   "cell_type": "code",
   "execution_count": 84,
   "metadata": {
    "collapsed": true,
    "nbpresent": {
     "id": "956a7440-bb0a-4040-9d56-b63aed02b338"
    }
   },
   "outputs": [],
   "source": [
    "db = pd.read_csv(\"algexit2009.csv\")"
   ]
  },
  {
   "cell_type": "code",
   "execution_count": 90,
   "metadata": {
    "collapsed": false,
    "nbpresent": {
     "id": "e08db153-0ace-472d-9436-d9573f92f4a5"
    }
   },
   "outputs": [
    {
     "data": {
      "text/html": [
       "<div>\n",
       "<table border=\"1\" class=\"dataframe\">\n",
       "  <thead>\n",
       "    <tr style=\"text-align: right;\">\n",
       "      <th></th>\n",
       "      <th>school_name</th>\n",
       "      <th>total_highpass</th>\n",
       "      <th>total_pass</th>\n",
       "      <th>total</th>\n",
       "    </tr>\n",
       "  </thead>\n",
       "  <tbody>\n",
       "    <tr>\n",
       "      <th>125</th>\n",
       "      <td>TONTI</td>\n",
       "      <td>0</td>\n",
       "      <td>0</td>\n",
       "      <td>32</td>\n",
       "    </tr>\n",
       "    <tr>\n",
       "      <th>126</th>\n",
       "      <td>VOLTA</td>\n",
       "      <td>2</td>\n",
       "      <td>11</td>\n",
       "      <td>23</td>\n",
       "    </tr>\n",
       "    <tr>\n",
       "      <th>127</th>\n",
       "      <td>VON HUMBOLDT</td>\n",
       "      <td>0</td>\n",
       "      <td>1</td>\n",
       "      <td>6</td>\n",
       "    </tr>\n",
       "    <tr>\n",
       "      <th>128</th>\n",
       "      <td>WASHINGTON G</td>\n",
       "      <td>0</td>\n",
       "      <td>4</td>\n",
       "      <td>28</td>\n",
       "    </tr>\n",
       "    <tr>\n",
       "      <th>129</th>\n",
       "      <td>WELLS PREP</td>\n",
       "      <td>0</td>\n",
       "      <td>1</td>\n",
       "      <td>10</td>\n",
       "    </tr>\n",
       "    <tr>\n",
       "      <th>130</th>\n",
       "      <td>WILLIAMS PREP</td>\n",
       "      <td>0</td>\n",
       "      <td>0</td>\n",
       "      <td>7</td>\n",
       "    </tr>\n",
       "    <tr>\n",
       "      <th>131</th>\n",
       "      <td>WILLIAMS PREP MED</td>\n",
       "      <td>0</td>\n",
       "      <td>2</td>\n",
       "      <td>26</td>\n",
       "    </tr>\n",
       "    <tr>\n",
       "      <th>132</th>\n",
       "      <td>YATES</td>\n",
       "      <td>4</td>\n",
       "      <td>14</td>\n",
       "      <td>20</td>\n",
       "    </tr>\n",
       "    <tr>\n",
       "      <th>133</th>\n",
       "      <td>YOUNG, W</td>\n",
       "      <td>34</td>\n",
       "      <td>81</td>\n",
       "      <td>125</td>\n",
       "    </tr>\n",
       "    <tr>\n",
       "      <th>134</th>\n",
       "      <td>ZAPATA</td>\n",
       "      <td>0</td>\n",
       "      <td>9</td>\n",
       "      <td>19</td>\n",
       "    </tr>\n",
       "  </tbody>\n",
       "</table>\n",
       "</div>"
      ],
      "text/plain": [
       "           school_name  total_highpass  total_pass  total\n",
       "125              TONTI               0           0     32\n",
       "126              VOLTA               2          11     23\n",
       "127       VON HUMBOLDT               0           1      6\n",
       "128       WASHINGTON G               0           4     28\n",
       "129         WELLS PREP               0           1     10\n",
       "130      WILLIAMS PREP               0           0      7\n",
       "131  WILLIAMS PREP MED               0           2     26\n",
       "132              YATES               4          14     20\n",
       "133          YOUNG, W               34          81    125\n",
       "134            ZAPATA                0           9     19"
      ]
     },
     "execution_count": 90,
     "metadata": {},
     "output_type": "execute_result"
    }
   ],
   "source": [
    "db.tail(10)"
   ]
  },
  {
   "cell_type": "code",
   "execution_count": 94,
   "metadata": {
    "collapsed": false,
    "nbpresent": {
     "id": "b2fadfba-0905-484b-9451-5f5044801986"
    }
   },
   "outputs": [
    {
     "name": "stderr",
     "output_type": "stream",
     "text": [
      "/home/raja/anaconda2/envs/py35/lib/python3.5/site-packages/ipykernel/__main__.py:1: FutureWarning: sort(columns=....) is deprecated, use sort_values(by=.....)\n",
      "  if __name__ == '__main__':\n"
     ]
    }
   ],
   "source": [
    "db.sort(columns=[\"total_pass\"], inplace=True, ascending=False)"
   ]
  },
  {
   "cell_type": "code",
   "execution_count": 110,
   "metadata": {
    "collapsed": false,
    "nbpresent": {
     "id": "2b4fe350-c132-428f-b53e-9d937525885a"
    }
   },
   "outputs": [],
   "source": [
    "passpercent = []\n",
    "for i in range(len(db)):\n",
    "    passpercent.append(db.iat[i,2] / float(db.iat[i,3]))"
   ]
  },
  {
   "cell_type": "code",
   "execution_count": 112,
   "metadata": {
    "collapsed": false,
    "nbpresent": {
     "id": "08b46f2f-7778-43dd-b9db-9faaca6b0f71"
    }
   },
   "outputs": [],
   "source": [
    "db['pass percent'] = passpercent"
   ]
  },
  {
   "cell_type": "code",
   "execution_count": 118,
   "metadata": {
    "collapsed": false,
    "nbpresent": {
     "id": "fa4b7a00-87eb-4f98-bbd8-fe1611f7e047"
    }
   },
   "outputs": [
    {
     "name": "stderr",
     "output_type": "stream",
     "text": [
      "/home/raja/anaconda2/envs/py35/lib/python3.5/site-packages/ipykernel/__main__.py:1: FutureWarning: sort(columns=....) is deprecated, use sort_values(by=.....)\n",
      "  if __name__ == '__main__':\n"
     ]
    }
   ],
   "source": [
    "db.sort(columns=['pass percent'], inplace=True, ascending=False)"
   ]
  },
  {
   "cell_type": "code",
   "execution_count": 130,
   "metadata": {
    "collapsed": false,
    "nbpresent": {
     "id": "b0927bf2-5f0d-49ff-b2af-aa4b76c7bd24"
    }
   },
   "outputs": [],
   "source": [
    "totalpass = []\n",
    "for i in range(len(db)):\n",
    "    totalpass.append(db.iat[i,1]/float(db.iat[i,3]))"
   ]
  },
  {
   "cell_type": "code",
   "execution_count": 131,
   "metadata": {
    "collapsed": true,
    "nbpresent": {
     "id": "631306e4-659f-4e9d-809f-f312d3e8bc5d"
    }
   },
   "outputs": [],
   "source": [
    "db['total pass'] = totalpass"
   ]
  },
  {
   "cell_type": "code",
   "execution_count": 132,
   "metadata": {
    "collapsed": false,
    "nbpresent": {
     "id": "a53cb5fa-b8f5-4cac-b788-e49dbc5d2714"
    }
   },
   "outputs": [
    {
     "data": {
      "text/html": [
       "<div>\n",
       "<table border=\"1\" class=\"dataframe\">\n",
       "  <thead>\n",
       "    <tr style=\"text-align: right;\">\n",
       "      <th></th>\n",
       "      <th>school_name</th>\n",
       "      <th>total_highpass</th>\n",
       "      <th>total_pass</th>\n",
       "      <th>total</th>\n",
       "      <th>pass percent</th>\n",
       "      <th>total pass</th>\n",
       "    </tr>\n",
       "  </thead>\n",
       "  <tbody>\n",
       "    <tr>\n",
       "      <th>112</th>\n",
       "      <td>SHOOP</td>\n",
       "      <td>0</td>\n",
       "      <td>6</td>\n",
       "      <td>6</td>\n",
       "      <td>1.000000</td>\n",
       "      <td>0.0000</td>\n",
       "    </tr>\n",
       "    <tr>\n",
       "      <th>13</th>\n",
       "      <td>BLACK</td>\n",
       "      <td>0</td>\n",
       "      <td>9</td>\n",
       "      <td>11</td>\n",
       "      <td>0.818182</td>\n",
       "      <td>0.0000</td>\n",
       "    </tr>\n",
       "    <tr>\n",
       "      <th>117</th>\n",
       "      <td>STOCKTON</td>\n",
       "      <td>0</td>\n",
       "      <td>9</td>\n",
       "      <td>11</td>\n",
       "      <td>0.818182</td>\n",
       "      <td>0.0000</td>\n",
       "    </tr>\n",
       "    <tr>\n",
       "      <th>54</th>\n",
       "      <td>GUNSAULUS</td>\n",
       "      <td>1</td>\n",
       "      <td>13</td>\n",
       "      <td>16</td>\n",
       "      <td>0.812500</td>\n",
       "      <td>0.0625</td>\n",
       "    </tr>\n",
       "    <tr>\n",
       "      <th>9</th>\n",
       "      <td>BEAUBIEN</td>\n",
       "      <td>0</td>\n",
       "      <td>11</td>\n",
       "      <td>14</td>\n",
       "      <td>0.785714</td>\n",
       "      <td>0.0000</td>\n",
       "    </tr>\n",
       "  </tbody>\n",
       "</table>\n",
       "</div>"
      ],
      "text/plain": [
       "    school_name  total_highpass  total_pass  total  pass percent  total pass\n",
       "112       SHOOP               0           6      6      1.000000      0.0000\n",
       "13        BLACK               0           9     11      0.818182      0.0000\n",
       "117    STOCKTON               0           9     11      0.818182      0.0000\n",
       "54    GUNSAULUS               1          13     16      0.812500      0.0625\n",
       "9      BEAUBIEN               0          11     14      0.785714      0.0000"
      ]
     },
     "execution_count": 132,
     "metadata": {},
     "output_type": "execute_result"
    }
   ],
   "source": [
    "db.head()"
   ]
  },
  {
   "cell_type": "code",
   "execution_count": 133,
   "metadata": {
    "collapsed": false,
    "nbpresent": {
     "id": "989a7426-64e5-48b8-a033-1171e469ef02"
    }
   },
   "outputs": [
    {
     "name": "stderr",
     "output_type": "stream",
     "text": [
      "/home/raja/anaconda2/envs/py35/lib/python3.5/site-packages/ipykernel/__main__.py:1: FutureWarning: sort(columns=....) is deprecated, use sort_values(by=.....)\n",
      "  if __name__ == '__main__':\n"
     ]
    }
   ],
   "source": [
    "db.sort(['total pass'], ascending=False, inplace=True)"
   ]
  },
  {
   "cell_type": "code",
   "execution_count": 134,
   "metadata": {
    "collapsed": false,
    "nbpresent": {
     "id": "3053c688-9321-4791-8935-8109953c7854"
    }
   },
   "outputs": [
    {
     "data": {
      "text/html": [
       "<div>\n",
       "<table border=\"1\" class=\"dataframe\">\n",
       "  <thead>\n",
       "    <tr style=\"text-align: right;\">\n",
       "      <th></th>\n",
       "      <th>school_name</th>\n",
       "      <th>total_highpass</th>\n",
       "      <th>total_pass</th>\n",
       "      <th>total</th>\n",
       "      <th>pass percent</th>\n",
       "      <th>total pass</th>\n",
       "    </tr>\n",
       "  </thead>\n",
       "  <tbody>\n",
       "    <tr>\n",
       "      <th>48</th>\n",
       "      <td>GALILEO SCHOLASTIC</td>\n",
       "      <td>9</td>\n",
       "      <td>4</td>\n",
       "      <td>13</td>\n",
       "      <td>0.307692</td>\n",
       "      <td>0.692308</td>\n",
       "    </tr>\n",
       "    <tr>\n",
       "      <th>124</th>\n",
       "      <td>THORP O A</td>\n",
       "      <td>13</td>\n",
       "      <td>15</td>\n",
       "      <td>28</td>\n",
       "      <td>0.535714</td>\n",
       "      <td>0.464286</td>\n",
       "    </tr>\n",
       "    <tr>\n",
       "      <th>53</th>\n",
       "      <td>GRAY</td>\n",
       "      <td>11</td>\n",
       "      <td>13</td>\n",
       "      <td>29</td>\n",
       "      <td>0.448276</td>\n",
       "      <td>0.379310</td>\n",
       "    </tr>\n",
       "    <tr>\n",
       "      <th>60</th>\n",
       "      <td>HAWTHORNE</td>\n",
       "      <td>21</td>\n",
       "      <td>19</td>\n",
       "      <td>61</td>\n",
       "      <td>0.311475</td>\n",
       "      <td>0.344262</td>\n",
       "    </tr>\n",
       "    <tr>\n",
       "      <th>28</th>\n",
       "      <td>CASTELLANOS</td>\n",
       "      <td>2</td>\n",
       "      <td>3</td>\n",
       "      <td>6</td>\n",
       "      <td>0.500000</td>\n",
       "      <td>0.333333</td>\n",
       "    </tr>\n",
       "  </tbody>\n",
       "</table>\n",
       "</div>"
      ],
      "text/plain": [
       "            school_name  total_highpass  total_pass  total  pass percent  \\\n",
       "48   GALILEO SCHOLASTIC               9           4     13      0.307692   \n",
       "124           THORP O A              13          15     28      0.535714   \n",
       "53                 GRAY              11          13     29      0.448276   \n",
       "60            HAWTHORNE              21          19     61      0.311475   \n",
       "28          CASTELLANOS               2           3      6      0.500000   \n",
       "\n",
       "     total pass  \n",
       "48     0.692308  \n",
       "124    0.464286  \n",
       "53     0.379310  \n",
       "60     0.344262  \n",
       "28     0.333333  "
      ]
     },
     "execution_count": 134,
     "metadata": {},
     "output_type": "execute_result"
    }
   ],
   "source": [
    "db.head()"
   ]
  },
  {
   "cell_type": "code",
   "execution_count": 252,
   "metadata": {
    "collapsed": false,
    "nbpresent": {
     "id": "03e0b65d-73af-47b6-893b-81ff46bd7c41"
    }
   },
   "outputs": [],
   "source": [
    "import numpy as np\n",
    "import scipy as sc\n",
    "import matplotlib.pyplot as plt\n",
    "import matplotlib as mpl\n",
    "import pandas as pd\n",
    "from pandas import DataFrame, Series\n",
    "%matplotlib inline\n",
    "db = pd.read_csv('dropoutVSmedincome.csv')"
   ]
  },
  {
   "cell_type": "code",
   "execution_count": 253,
   "metadata": {
    "collapsed": false,
    "nbpresent": {
     "id": "d816e435-e3ca-4be5-a869-daf589aa2a8c"
    }
   },
   "outputs": [],
   "source": [
    "table = DataFrame(db, columns=['school', 'DO2012', 'median income'])"
   ]
  },
  {
   "cell_type": "code",
   "execution_count": 254,
   "metadata": {
    "collapsed": false,
    "nbpresent": {
     "id": "7a82269e-a7ff-44aa-b2dc-de4d489188df"
    }
   },
   "outputs": [
    {
     "data": {
      "text/plain": [
       "[<matplotlib.lines.Line2D at 0x7f6edd4b6978>]"
      ]
     },
     "execution_count": 254,
     "metadata": {},
     "output_type": "execute_result"
    },
    {
     "data": {
      "image/png": "[encoded data removed]",
      "text/plain": [
       "<matplotlib.figure.Figure at 0x7f6edd6a32b0>"
      ]
     },
     "metadata": {},
     "output_type": "display_data"
    }
   ],
   "source": [
    "plt.plot(db['DO2012'], db['median income'], 'bo')"
   ]
  },
  {
   "cell_type": "code",
   "execution_count": 267,
   "metadata": {
    "collapsed": false,
    "nbpresent": {
     "id": "d0d1af43-ff85-4112-9297-9be4f6470ce4"
    }
   },
   "outputs": [
    {
     "data": {
      "text/plain": [
       "LinregressResult(slope=-0.0001125797212434158, intercept=11.353918492713643, rvalue=-0.17408565293969469, pvalue=0.58843193754577661, stderr=0.00020137918735641119)"
      ]
     },
     "execution_count": 267,
     "metadata": {},
     "output_type": "execute_result"
    }
   ],
   "source": [
    "regressionline = scipy.stats.linregress(db['median income'], db['DO2012'])\n",
    "regressionline"
   ]
  },
  {
   "cell_type": "code",
   "execution_count": 264,
   "metadata": {
    "collapsed": true,
    "nbpresent": {
     "id": "2b7771dc-40f7-4d92-8953-53403e72bddd"
    }
   },
   "outputs": [],
   "source": [
    "m = regressionline[0]\n",
    "b = regressionline[1]"
   ]
  },
  {
   "cell_type": "code",
   "execution_count": 265,
   "metadata": {
    "collapsed": true,
    "nbpresent": {
     "id": "113fdfbd-6fca-4f99-aa95-d2d7795c3c62"
    }
   },
   "outputs": [],
   "source": [
    "x = np.linspace(0,18,100)"
   ]
  },
  {
   "cell_type": "code",
   "execution_count": 266,
   "metadata": {
    "collapsed": false,
    "nbpresent": {
     "id": "c03b71cf-dd85-4888-b087-b85c28e1f223"
    }
   },
   "outputs": [
    {
     "data": {
      "text/plain": [
       "[<matplotlib.lines.Line2D at 0x7f6edd381400>]"
      ]
     },
     "execution_count": 266,
     "metadata": {},
     "output_type": "execute_result"
    },
    {
     "data": {
      "image/png": "[encoded data removed]",
      "text/plain": [
       "<matplotlib.figure.Figure at 0x7f6edd439828>"
      ]
     },
     "metadata": {},
     "output_type": "display_data"
    }
   ],
   "source": [
    "plt.plot(x,m*x+b)"
   ]
  },
  {
   "cell_type": "code",
   "execution_count": 268,
   "metadata": {
    "collapsed": false,
    "nbpresent": {
     "id": "ad50e07c-6a26-45ae-a5ea-4197d12cf166"
    }
   },
   "outputs": [
    {
     "data": {
      "text/html": [
       "<div>\n",
       "<table border=\"1\" class=\"dataframe\">\n",
       "  <thead>\n",
       "    <tr style=\"text-align: right;\">\n",
       "      <th></th>\n",
       "      <th>school</th>\n",
       "      <th>DO2012</th>\n",
       "      <th>median income</th>\n",
       "    </tr>\n",
       "  </thead>\n",
       "  <tbody>\n",
       "    <tr>\n",
       "      <th>0</th>\n",
       "      <td>amundsen</td>\n",
       "      <td>6.0</td>\n",
       "      <td>50065</td>\n",
       "    </tr>\n",
       "    <tr>\n",
       "      <th>1</th>\n",
       "      <td>clemente</td>\n",
       "      <td>0.9</td>\n",
       "      <td>58987</td>\n",
       "    </tr>\n",
       "    <tr>\n",
       "      <th>2</th>\n",
       "      <td>corliss</td>\n",
       "      <td>2.3</td>\n",
       "      <td>40394</td>\n",
       "    </tr>\n",
       "    <tr>\n",
       "      <th>3</th>\n",
       "      <td>douglass</td>\n",
       "      <td>0.6</td>\n",
       "      <td>28059</td>\n",
       "    </tr>\n",
       "    <tr>\n",
       "      <th>4</th>\n",
       "      <td>eric solorio academy hs</td>\n",
       "      <td>3.0</td>\n",
       "      <td>42809</td>\n",
       "    </tr>\n",
       "    <tr>\n",
       "      <th>5</th>\n",
       "      <td>fenger</td>\n",
       "      <td>16.5</td>\n",
       "      <td>40394</td>\n",
       "    </tr>\n",
       "    <tr>\n",
       "      <th>6</th>\n",
       "      <td>gage park</td>\n",
       "      <td>10.6</td>\n",
       "      <td>37367</td>\n",
       "    </tr>\n",
       "    <tr>\n",
       "      <th>7</th>\n",
       "      <td>harlan</td>\n",
       "      <td>10.3</td>\n",
       "      <td>40394</td>\n",
       "    </tr>\n",
       "    <tr>\n",
       "      <th>8</th>\n",
       "      <td>hirsch</td>\n",
       "      <td>11.2</td>\n",
       "      <td>40176</td>\n",
       "    </tr>\n",
       "    <tr>\n",
       "      <th>9</th>\n",
       "      <td>hubbard</td>\n",
       "      <td>7.4</td>\n",
       "      <td>37367</td>\n",
       "    </tr>\n",
       "    <tr>\n",
       "      <th>10</th>\n",
       "      <td>juarez</td>\n",
       "      <td>5.5</td>\n",
       "      <td>42575</td>\n",
       "    </tr>\n",
       "    <tr>\n",
       "      <th>11</th>\n",
       "      <td>kelly</td>\n",
       "      <td>5.5</td>\n",
       "      <td>42809</td>\n",
       "    </tr>\n",
       "  </tbody>\n",
       "</table>\n",
       "</div>"
      ],
      "text/plain": [
       "                     school  DO2012  median income\n",
       "0                  amundsen     6.0          50065\n",
       "1                  clemente     0.9          58987\n",
       "2                   corliss     2.3          40394\n",
       "3                  douglass     0.6          28059\n",
       "4   eric solorio academy hs     3.0          42809\n",
       "5                    fenger    16.5          40394\n",
       "6                 gage park    10.6          37367\n",
       "7                    harlan    10.3          40394\n",
       "8                    hirsch    11.2          40176\n",
       "9                   hubbard     7.4          37367\n",
       "10                   juarez     5.5          42575\n",
       "11                    kelly     5.5          42809"
      ]
     },
     "execution_count": 268,
     "metadata": {},
     "output_type": "execute_result"
    }
   ],
   "source": [
    "db"
   ]
  },
  {
   "cell_type": "code",
   "execution_count": null,
   "metadata": {
    "collapsed": true,
    "nbpresent": {
     "id": "d0bf1ffd-c545-4cb5-9955-7e6cd399b4d6"
    }
   },
   "outputs": [],
   "source": []
  }
 ],
 "metadata": {
  "kernelspec": {
   "display_name": "Python [py35]",
   "language": "python",
   "name": "Python [py35]"
  },
  "language_info": {
   "codemirror_mode": {
    "name": "ipython",
    "version": 3
   },
   "file_extension": ".py",
   "mimetype": "text/x-python",
   "name": "python",
   "nbconvert_exporter": "python",
   "pygments_lexer": "ipython3",
   "version": "3.5.2"
  },
  "nbpresent": {
   "slides": {
    "02a47736-c726-4134-a415-d3df990600ee": {
     "id": "02a47736-c726-4134-a415-d3df990600ee",
     "prev": "8a39cd52-39e8-4233-9a17-c322fc5ad015",
     "regions": {
      "2e4d3b40-7292-41ec-9615-732f55eea473": {
       "attrs": {
        "height": 0.8,
        "width": 0.8,
        "x": 0.1,
        "y": 0.1
       },
       "content": {
        "cell": "956a7440-bb0a-4040-9d56-b63aed02b338",
        "part": "whole"
       },
       "id": "2e4d3b40-7292-41ec-9615-732f55eea473"
      }
     }
    },
    "06e1af0b-a025-48d1-99ee-a084567eb262": {
     "id": "06e1af0b-a025-48d1-99ee-a084567eb262",
     "prev": "68c9012c-8e12-434d-9b1b-3b318fee15de",
     "regions": {
      "996fdd29-8cf7-4357-b3c8-a69b5b49a053": {
       "attrs": {
        "height": 0.8,
        "width": 0.8,
        "x": 0.1,
        "y": 0.1
       },
       "content": {
        "cell": "d0bf1ffd-c545-4cb5-9955-7e6cd399b4d6",
        "part": "whole"
       },
       "id": "996fdd29-8cf7-4357-b3c8-a69b5b49a053"
      }
     }
    },
    "0b8f8ab9-0730-41f6-9f07-3542ad18c823": {
     "id": "0b8f8ab9-0730-41f6-9f07-3542ad18c823",
     "prev": null,
     "regions": {
      "b08c500f-b719-4a8c-8809-8936c560e6c4": {
       "attrs": {
        "height": 0.8,
        "width": 0.8,
        "x": -0.1018571428571428,
        "y": 0.11371428571428571
       },
       "content": {
        "cell": "cc4a5dde-2ad9-4e81-b8f4-65038a034dea",
        "part": "whole"
       },
       "id": "b08c500f-b719-4a8c-8809-8936c560e6c4"
      }
     }
    },
    "0e1ce7e6-47fc-4b08-b422-0a418f3b4348": {
     "id": "0e1ce7e6-47fc-4b08-b422-0a418f3b4348",
     "prev": "a9bf802e-8f39-4fb7-bc18-5e48b11ead70",
     "regions": {
      "6479bb42-f6a4-4580-b406-73563c3c30b6": {
       "attrs": {
        "height": 0.8,
        "width": 0.8,
        "x": 0.1,
        "y": 0.1
       },
       "content": {
        "cell": "c12e7717-d730-4cd6-b2d8-a859e05e7616",
        "part": "whole"
       },
       "id": "6479bb42-f6a4-4580-b406-73563c3c30b6"
      }
     }
    },
    "11062d13-c6b9-4377-a623-78a3e68aea71": {
     "id": "11062d13-c6b9-4377-a623-78a3e68aea71",
     "prev": "785ee1e6-5f22-43c0-b466-42a350d7dce5",
     "regions": {
      "0ae80161-25b1-4147-8f9f-3cf272684826": {
       "attrs": {
        "height": 0.8,
        "width": 0.8,
        "x": 0.1,
        "y": 0.1
       },
       "content": {
        "cell": "baecd47c-5b77-468c-997e-890f22761d85",
        "part": "whole"
       },
       "id": "0ae80161-25b1-4147-8f9f-3cf272684826"
      }
     }
    },
    "12c98e3c-2b32-4bc9-af79-40b2ed7a56cf": {
     "id": "12c98e3c-2b32-4bc9-af79-40b2ed7a56cf",
     "prev": "e1fe5351-4899-4d93-9ca8-af03e450cbfe",
     "regions": {
      "80552b32-5392-403a-9029-37a5e1a06091": {
       "attrs": {
        "height": 0.8,
        "width": 0.8,
        "x": 0.1,
        "y": 0.1
       },
       "content": {
        "cell": "0d6fb707-85f0-4298-8ce2-e74ffc5c655f",
        "part": "whole"
       },
       "id": "80552b32-5392-403a-9029-37a5e1a06091"
      }
     }
    },
    "14429cea-8ae5-4f0b-83df-2e1097c80355": {
     "id": "14429cea-8ae5-4f0b-83df-2e1097c80355",
     "prev": "a6801ac4-0837-4e5a-bd17-ad193b648ced",
     "regions": {
      "201ce91a-45e6-41d8-aa1f-719af94f5d23": {
       "attrs": {
        "height": 0.8,
        "width": 0.8,
        "x": 0.1,
        "y": 0.1
       },
       "content": {
        "cell": "c04a6ccb-4be6-4322-a34c-d99a88cec10e",
        "part": "whole"
       },
       "id": "201ce91a-45e6-41d8-aa1f-719af94f5d23"
      }
     }
    },
    "1461ff99-82d5-4fb9-ad6b-8c6cf77b13c3": {
     "id": "1461ff99-82d5-4fb9-ad6b-8c6cf77b13c3",
     "prev": "12c98e3c-2b32-4bc9-af79-40b2ed7a56cf",
     "regions": {
      "70c85eb9-1d3f-4214-8f79-83ccc0663710": {
       "attrs": {
        "height": 0.8,
        "width": 0.8,
        "x": 0.1,
        "y": 0.1
       },
       "content": {
        "cell": "eb2c8a86-6122-4f22-9b31-fd621d4c9907",
        "part": "whole"
       },
       "id": "70c85eb9-1d3f-4214-8f79-83ccc0663710"
      }
     }
    },
    "26febe33-884c-44ff-b686-92a062cbd0a3": {
     "id": "26febe33-884c-44ff-b686-92a062cbd0a3",
     "prev": "c4d9cf54-cf47-4598-bfaa-d41f585f7f28",
     "regions": {
      "d76d482b-e94d-4659-807e-bb0565baafd4": {
       "attrs": {
        "height": 0.8,
        "width": 0.8,
        "x": 0.1,
        "y": 0.1
       },
       "content": {
        "cell": "319ff1a0-0ceb-457f-ad27-17442a7b7e73",
        "part": "whole"
       },
       "id": "d76d482b-e94d-4659-807e-bb0565baafd4"
      }
     }
    },
    "2b924483-30f8-4e25-8d6c-f00f2879718e": {
     "id": "2b924483-30f8-4e25-8d6c-f00f2879718e",
     "prev": "02a47736-c726-4134-a415-d3df990600ee",
     "regions": {
      "d9cf1dcb-4fa6-4bf9-b2f5-a588b14a4d1e": {
       "attrs": {
        "height": 0.8,
        "width": 0.8,
        "x": 0.1,
        "y": 0.1
       },
       "content": {
        "cell": "e08db153-0ace-472d-9436-d9573f92f4a5",
        "part": "whole"
       },
       "id": "d9cf1dcb-4fa6-4bf9-b2f5-a588b14a4d1e"
      }
     }
    },
    "2fcffc46-2a5c-42fb-bd47-5c89b3179954": {
     "id": "2fcffc46-2a5c-42fb-bd47-5c89b3179954",
     "prev": "0b8f8ab9-0730-41f6-9f07-3542ad18c823",
     "regions": {
      "25d20e83-2643-4240-b24b-9759d0a73a26": {
       "attrs": {
        "height": 0.8,
        "width": 0.8,
        "x": 0.1,
        "y": 0.1
       },
       "content": {
        "cell": "9acdcada-2a43-471b-a377-1dfcc54730a3",
        "part": "whole"
       },
       "id": "25d20e83-2643-4240-b24b-9759d0a73a26"
      }
     }
    },
    "37e5d3d5-e0a4-410c-83c9-9674a468ca2d": {
     "id": "37e5d3d5-e0a4-410c-83c9-9674a468ca2d",
     "prev": "2b924483-30f8-4e25-8d6c-f00f2879718e",
     "regions": {
      "74e34a78-28b8-434c-89fa-f75e27fb0272": {
       "attrs": {
        "height": 0.8,
        "width": 0.8,
        "x": 0.1,
        "y": 0.1
       },
       "content": {
        "cell": "b2fadfba-0905-484b-9451-5f5044801986",
        "part": "whole"
       },
       "id": "74e34a78-28b8-434c-89fa-f75e27fb0272"
      }
     }
    },
    "3c606701-a5a4-48de-b95c-ba1affc8e4da": {
     "id": "3c606701-a5a4-48de-b95c-ba1affc8e4da",
     "prev": "ffabc2a1-a363-4de6-9891-aba7d5dc96e0",
     "regions": {
      "6dd10d8d-5dba-4020-8e7f-4115c4f719c4": {
       "attrs": {
        "height": 0.8,
        "width": 0.8,
        "x": 0.1,
        "y": 0.1
       },
       "content": {
        "cell": "fa4b7a00-87eb-4f98-bbd8-fe1611f7e047",
        "part": "whole"
       },
       "id": "6dd10d8d-5dba-4020-8e7f-4115c4f719c4"
      }
     }
    },
    "4ef69e06-3f7f-48d3-a475-d506a3b98dfc": {
     "id": "4ef69e06-3f7f-48d3-a475-d506a3b98dfc",
     "prev": "67b474f8-baa4-4721-878f-ad0a63f0e4c4",
     "regions": {
      "fcd865bf-523b-44ec-9d0b-2bc8d0ef0bd7": {
       "attrs": {
        "height": 0.8,
        "width": 0.8,
        "x": 0.1,
        "y": 0.1
       },
       "content": {
        "cell": "631306e4-659f-4e9d-809f-f312d3e8bc5d",
        "part": "whole"
       },
       "id": "fcd865bf-523b-44ec-9d0b-2bc8d0ef0bd7"
      }
     }
    },
    "506ae908-59ae-4e07-86fe-b03c71156647": {
     "id": "506ae908-59ae-4e07-86fe-b03c71156647",
     "prev": "0e1ce7e6-47fc-4b08-b422-0a418f3b4348",
     "regions": {
      "4d256954-e383-47e1-9248-30a51f037455": {
       "attrs": {
        "height": 0.8,
        "width": 0.8,
        "x": 0.1,
        "y": 0.1
       },
       "content": {
        "cell": "d43aa90e-6004-4840-a6d3-182185cc7510",
        "part": "whole"
       },
       "id": "4d256954-e383-47e1-9248-30a51f037455"
      }
     }
    },
    "5dd62310-971f-49d0-ac6f-521527991a86": {
     "id": "5dd62310-971f-49d0-ac6f-521527991a86",
     "prev": "1461ff99-82d5-4fb9-ad6b-8c6cf77b13c3",
     "regions": {
      "6f7c7f8e-db14-4c54-928e-d1cd944c53f8": {
       "attrs": {
        "height": 0.8,
        "width": 0.8,
        "x": 0.1,
        "y": 0.1
       },
       "content": {
        "cell": "c38b30f6-6341-42c4-b08f-bc6571ebb9a3",
        "part": "whole"
       },
       "id": "6f7c7f8e-db14-4c54-928e-d1cd944c53f8"
      }
     }
    },
    "5e6a5b98-f946-46db-90b5-47262cbb26ba": {
     "id": "5e6a5b98-f946-46db-90b5-47262cbb26ba",
     "prev": "7c504831-399d-4ee7-94fa-0a0db0bf5169",
     "regions": {
      "7aa118a7-dbca-411b-9731-a4f6e77b0f59": {
       "attrs": {
        "height": 0.8,
        "width": 0.8,
        "x": 0.1,
        "y": 0.1
       },
       "content": {
        "cell": "989a7426-64e5-48b8-a033-1171e469ef02",
        "part": "whole"
       },
       "id": "7aa118a7-dbca-411b-9731-a4f6e77b0f59"
      }
     }
    },
    "67b474f8-baa4-4721-878f-ad0a63f0e4c4": {
     "id": "67b474f8-baa4-4721-878f-ad0a63f0e4c4",
     "prev": "3c606701-a5a4-48de-b95c-ba1affc8e4da",
     "regions": {
      "dee087c1-3874-4901-b32b-36b1ee92cff7": {
       "attrs": {
        "height": 0.8,
        "width": 0.8,
        "x": 0.1,
        "y": 0.1
       },
       "content": {
        "cell": "b0927bf2-5f0d-49ff-b2af-aa4b76c7bd24",
        "part": "whole"
       },
       "id": "dee087c1-3874-4901-b32b-36b1ee92cff7"
      }
     }
    },
    "68c9012c-8e12-434d-9b1b-3b318fee15de": {
     "id": "68c9012c-8e12-434d-9b1b-3b318fee15de",
     "prev": "d7b03317-0dd6-4aaf-ad01-c411957b3704",
     "regions": {}
    },
    "6f4cbcc3-ad49-4df9-8848-9b8277ebbf60": {
     "id": "6f4cbcc3-ad49-4df9-8848-9b8277ebbf60",
     "prev": "14429cea-8ae5-4f0b-83df-2e1097c80355",
     "regions": {
      "c79661fe-c0d1-4e1b-a20a-604cbc799004": {
       "attrs": {
        "height": 0.8,
        "width": 0.8,
        "x": 0.1,
        "y": 0.1
       },
       "content": {
        "cell": "7ac9eda0-001b-4dd5-ad69-874c18ab800e",
        "part": "whole"
       },
       "id": "c79661fe-c0d1-4e1b-a20a-604cbc799004"
      }
     }
    },
    "785ee1e6-5f22-43c0-b466-42a350d7dce5": {
     "id": "785ee1e6-5f22-43c0-b466-42a350d7dce5",
     "prev": "6f4cbcc3-ad49-4df9-8848-9b8277ebbf60",
     "regions": {
      "ad3a9eb2-09e1-4535-802d-e0397ba55932": {
       "attrs": {
        "height": 0.8,
        "width": 0.8,
        "x": 0.1,
        "y": 0.1
       },
       "content": {
        "cell": "0ea5ab59-4905-4dc1-a231-67407007275c",
        "part": "whole"
       },
       "id": "ad3a9eb2-09e1-4535-802d-e0397ba55932"
      }
     }
    },
    "7c504831-399d-4ee7-94fa-0a0db0bf5169": {
     "id": "7c504831-399d-4ee7-94fa-0a0db0bf5169",
     "prev": "4ef69e06-3f7f-48d3-a475-d506a3b98dfc",
     "regions": {
      "c30a2016-1ed4-4d54-96fd-0afe8d291690": {
       "attrs": {
        "height": 0.8,
        "width": 0.8,
        "x": 0.1,
        "y": 0.1
       },
       "content": {
        "cell": "a53cb5fa-b8f5-4cac-b788-e49dbc5d2714",
        "part": "whole"
       },
       "id": "c30a2016-1ed4-4d54-96fd-0afe8d291690"
      }
     }
    },
    "844f2e25-d8ef-4939-a3d7-abcb6423075e": {
     "id": "844f2e25-d8ef-4939-a3d7-abcb6423075e",
     "prev": "37e5d3d5-e0a4-410c-83c9-9674a468ca2d",
     "regions": {
      "7d3f693b-c2d4-4574-a03e-2300e9a3c3ed": {
       "attrs": {
        "height": 0.8,
        "width": 0.8,
        "x": 0.1,
        "y": 0.1
       },
       "content": {
        "cell": "2b4fe350-c132-428f-b53e-9d937525885a",
        "part": "whole"
       },
       "id": "7d3f693b-c2d4-4574-a03e-2300e9a3c3ed"
      }
     }
    },
    "8a39cd52-39e8-4233-9a17-c322fc5ad015": {
     "id": "8a39cd52-39e8-4233-9a17-c322fc5ad015",
     "prev": "26febe33-884c-44ff-b686-92a062cbd0a3",
     "regions": {
      "fd5cf22c-b1b8-4ec7-924d-ab7c65c1855a": {
       "attrs": {
        "height": 0.8,
        "width": 0.8,
        "x": 0.1,
        "y": 0.1
       },
       "content": {
        "cell": "d1488e4d-74f3-42a4-bc3a-0f92d9842c31",
        "part": "whole"
       },
       "id": "fd5cf22c-b1b8-4ec7-924d-ab7c65c1855a"
      }
     }
    },
    "8abbecd0-7b89-4710-b112-be120e9557e2": {
     "id": "8abbecd0-7b89-4710-b112-be120e9557e2",
     "prev": "5e6a5b98-f946-46db-90b5-47262cbb26ba",
     "regions": {
      "0ce311fd-2e22-44f6-9e73-ba2ef1b10faf": {
       "attrs": {
        "height": 0.8,
        "width": 0.8,
        "x": 0.1,
        "y": 0.1
       },
       "content": {
        "cell": "3053c688-9321-4791-8935-8109953c7854",
        "part": "whole"
       },
       "id": "0ce311fd-2e22-44f6-9e73-ba2ef1b10faf"
      }
     }
    },
    "8d71c4ff-e8a7-4d37-8661-e929f9a34c6c": {
     "id": "8d71c4ff-e8a7-4d37-8661-e929f9a34c6c",
     "prev": "f7934784-85d8-4ea8-964c-4ef99f8b5da4",
     "regions": {
      "54b33b63-39ab-4df6-84e3-fa32e2a15711": {
       "attrs": {
        "height": 0.8,
        "width": 0.8,
        "x": 0.1,
        "y": 0.1
       },
       "content": {
        "cell": "636ee382-5a41-41e7-bf00-6ecfa1838acf",
        "part": "whole"
       },
       "id": "54b33b63-39ab-4df6-84e3-fa32e2a15711"
      }
     }
    },
    "a6801ac4-0837-4e5a-bd17-ad193b648ced": {
     "id": "a6801ac4-0837-4e5a-bd17-ad193b648ced",
     "prev": "506ae908-59ae-4e07-86fe-b03c71156647",
     "regions": {
      "ff34941a-5db3-4546-9b4a-e50db9f53368": {
       "attrs": {
        "height": 0.8,
        "width": 0.8,
        "x": 0.1,
        "y": 0.1
       },
       "content": {
        "cell": "b11f2690-a140-4c1e-b29f-6d4a06352975",
        "part": "whole"
       },
       "id": "ff34941a-5db3-4546-9b4a-e50db9f53368"
      }
     }
    },
    "a9bf802e-8f39-4fb7-bc18-5e48b11ead70": {
     "id": "a9bf802e-8f39-4fb7-bc18-5e48b11ead70",
     "prev": "2fcffc46-2a5c-42fb-bd47-5c89b3179954",
     "regions": {
      "dc3d230e-8227-4110-8b6b-a7424601aca9": {
       "attrs": {
        "height": 0.8,
        "width": 0.8,
        "x": 0.1,
        "y": 0.1
       },
       "content": {
        "cell": "59875b82-2993-43a3-a99f-b211e33a791b",
        "part": "whole"
       },
       "id": "dc3d230e-8227-4110-8b6b-a7424601aca9"
      }
     }
    },
    "b105b84f-7797-4bf2-9922-90a9b61a4f97": {
     "id": "b105b84f-7797-4bf2-9922-90a9b61a4f97",
     "prev": "8abbecd0-7b89-4710-b112-be120e9557e2",
     "regions": {
      "5e5bc33c-4e2c-4f78-ad24-d6a042cb1d30": {
       "attrs": {
        "height": 0.8,
        "width": 0.8,
        "x": 0.1,
        "y": 0.1
       },
       "content": {
        "cell": "03e0b65d-73af-47b6-893b-81ff46bd7c41",
        "part": "whole"
       },
       "id": "5e5bc33c-4e2c-4f78-ad24-d6a042cb1d30"
      }
     }
    },
    "c0fc40b6-83f0-467f-b593-9e83790778cf": {
     "id": "c0fc40b6-83f0-467f-b593-9e83790778cf",
     "prev": "11062d13-c6b9-4377-a623-78a3e68aea71",
     "regions": {
      "dc1c343a-425d-46c1-8c38-7ad22bcbc25b": {
       "attrs": {
        "height": 0.8,
        "width": 0.8,
        "x": 0.1,
        "y": 0.1
       },
       "content": {
        "cell": "ddf3667a-60cd-4c22-b356-a86c4b219572",
        "part": "whole"
       },
       "id": "dc1c343a-425d-46c1-8c38-7ad22bcbc25b"
      }
     }
    },
    "c4d9cf54-cf47-4598-bfaa-d41f585f7f28": {
     "id": "c4d9cf54-cf47-4598-bfaa-d41f585f7f28",
     "prev": "5dd62310-971f-49d0-ac6f-521527991a86",
     "regions": {
      "f0f9aeb4-7b0e-4683-bae5-0b93dc0b3189": {
       "attrs": {
        "height": 0.8,
        "width": 0.8,
        "x": 0.1,
        "y": 0.1
       },
       "content": {
        "cell": "6ebf7c86-b8a9-4fbf-9c28-72f903358b2b",
        "part": "whole"
       },
       "id": "f0f9aeb4-7b0e-4683-bae5-0b93dc0b3189"
      }
     }
    },
    "d7b03317-0dd6-4aaf-ad01-c411957b3704": {
     "id": "d7b03317-0dd6-4aaf-ad01-c411957b3704",
     "prev": "d9398a67-bde8-45a6-a77c-3df05ce8d8e9",
     "regions": {
      "cf9dcbeb-a5cc-4b9e-85c4-8400782f1a64": {
       "attrs": {
        "height": 0.8,
        "width": 0.8,
        "x": 0.1,
        "y": 0.1
       },
       "content": {
        "cell": "c03b71cf-dd85-4888-b087-b85c28e1f223",
        "part": "whole"
       },
       "id": "cf9dcbeb-a5cc-4b9e-85c4-8400782f1a64"
      }
     }
    },
    "d9398a67-bde8-45a6-a77c-3df05ce8d8e9": {
     "id": "d9398a67-bde8-45a6-a77c-3df05ce8d8e9",
     "prev": "f1e45073-806d-4746-9535-0a9332173264",
     "regions": {
      "fe3858c6-d16c-4ba4-9edd-bda3476c0bbb": {
       "attrs": {
        "height": 0.8,
        "width": 0.8,
        "x": 0.1,
        "y": 0.1
       },
       "content": {
        "cell": "113fdfbd-6fca-4f99-aa95-d2d7795c3c62",
        "part": "whole"
       },
       "id": "fe3858c6-d16c-4ba4-9edd-bda3476c0bbb"
      }
     }
    },
    "e1fe5351-4899-4d93-9ca8-af03e450cbfe": {
     "id": "e1fe5351-4899-4d93-9ca8-af03e450cbfe",
     "prev": "8d71c4ff-e8a7-4d37-8661-e929f9a34c6c",
     "regions": {
      "d84cdf6f-4655-4b42-96e4-4d258fdc8fe8": {
       "attrs": {
        "height": 0.8,
        "width": 0.8,
        "x": 0.1,
        "y": 0.1
       },
       "content": {
        "cell": "209b06ef-284f-481b-ad78-f33b2faeb130",
        "part": "whole"
       },
       "id": "d84cdf6f-4655-4b42-96e4-4d258fdc8fe8"
      }
     }
    },
    "f1e45073-806d-4746-9535-0a9332173264": {
     "id": "f1e45073-806d-4746-9535-0a9332173264",
     "prev": "f512d2b4-9e70-4b16-93e4-618a9f48747c",
     "regions": {
      "6d7c1ea1-0e94-42fc-8325-99e905d019ce": {
       "attrs": {
        "height": 0.8,
        "width": 0.8,
        "x": 0.1,
        "y": 0.1
       },
       "content": {
        "cell": "2b7771dc-40f7-4d92-8953-53403e72bddd",
        "part": "whole"
       },
       "id": "6d7c1ea1-0e94-42fc-8325-99e905d019ce"
      }
     }
    },
    "f512d2b4-9e70-4b16-93e4-618a9f48747c": {
     "id": "f512d2b4-9e70-4b16-93e4-618a9f48747c",
     "prev": "f5528fe3-13ae-4e11-bb02-061ee74b2988",
     "regions": {
      "e2e52136-eb37-45f6-9ea9-2c31b4e0af86": {
       "attrs": {
        "height": 0.8,
        "width": 0.8,
        "x": 0.1,
        "y": 0.1
       },
       "content": {
        "cell": "d0d1af43-ff85-4112-9297-9be4f6470ce4",
        "part": "whole"
       },
       "id": "e2e52136-eb37-45f6-9ea9-2c31b4e0af86"
      }
     }
    },
    "f5528fe3-13ae-4e11-bb02-061ee74b2988": {
     "id": "f5528fe3-13ae-4e11-bb02-061ee74b2988",
     "prev": "ffb4284c-7f32-40ab-add1-69dcccd4cff8",
     "regions": {
      "b1261e33-e040-4c3f-84ea-05cf6ac805de": {
       "attrs": {
        "height": 0.8,
        "width": 0.8,
        "x": 0.1,
        "y": 0.1
       },
       "content": {
        "cell": "7a82269e-a7ff-44aa-b2dc-de4d489188df",
        "part": "whole"
       },
       "id": "b1261e33-e040-4c3f-84ea-05cf6ac805de"
      }
     }
    },
    "f7934784-85d8-4ea8-964c-4ef99f8b5da4": {
     "id": "f7934784-85d8-4ea8-964c-4ef99f8b5da4",
     "prev": "c0fc40b6-83f0-467f-b593-9e83790778cf",
     "regions": {
      "87abe7f7-5272-4ee2-91d6-c1517942cd00": {
       "attrs": {
        "height": 0.8,
        "width": 0.8,
        "x": 0.1,
        "y": 0.1
       },
       "content": {
        "cell": "6d0af88a-7474-40a1-9cd3-000d1279010b",
        "part": "whole"
       },
       "id": "87abe7f7-5272-4ee2-91d6-c1517942cd00"
      }
     }
    },
    "ffabc2a1-a363-4de6-9891-aba7d5dc96e0": {
     "id": "ffabc2a1-a363-4de6-9891-aba7d5dc96e0",
     "prev": "844f2e25-d8ef-4939-a3d7-abcb6423075e",
     "regions": {
      "81735292-209f-4264-a863-ff0a2c6c6bde": {
       "attrs": {
        "height": 0.8,
        "width": 0.8,
        "x": 0.1,
        "y": 0.1
       },
       "content": {
        "cell": "08b46f2f-7778-43dd-b9db-9faaca6b0f71",
        "part": "whole"
       },
       "id": "81735292-209f-4264-a863-ff0a2c6c6bde"
      }
     }
    },
    "ffb4284c-7f32-40ab-add1-69dcccd4cff8": {
     "id": "ffb4284c-7f32-40ab-add1-69dcccd4cff8",
     "prev": "b105b84f-7797-4bf2-9922-90a9b61a4f97",
     "regions": {
      "383096a8-c67e-4f65-afe1-a6c375f76beb": {
       "attrs": {
        "height": 0.8,
        "width": 0.8,
        "x": 0.1,
        "y": 0.1
       },
       "content": {
        "cell": "d816e435-e3ca-4be5-a869-daf589aa2a8c",
        "part": "whole"
       },
       "id": "383096a8-c67e-4f65-afe1-a6c375f76beb"
      }
     }
    }
   },
   "themes": {}
  }
 },
 "nbformat": 4,
 "nbformat_minor": 0
}
