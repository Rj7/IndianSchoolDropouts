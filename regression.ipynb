{
 "cells": [
  {
   "cell_type": "code",
   "execution_count": 21,
   "metadata": {
    "collapsed": false
   },
   "outputs": [],
   "source": [
    "import graphlab as gl"
   ]
  },
  {
   "cell_type": "code",
   "execution_count": 68,
   "metadata": {
    "collapsed": false
   },
   "outputs": [
    {
     "data": {
      "text/html": [
       "<pre>Finished parsing file /home/raja/Desktop/Indian Education System/tutorial/regression_data.csv</pre>"
      ],
      "text/plain": [
       "Finished parsing file /home/raja/Desktop/Indian Education System/tutorial/regression_data.csv"
      ]
     },
     "metadata": {},
     "output_type": "display_data"
    },
    {
     "data": {
      "text/html": [
       "<pre>Parsing completed. Parsed 35 lines in 0.039102 secs.</pre>"
      ],
      "text/plain": [
       "Parsing completed. Parsed 35 lines in 0.039102 secs."
      ]
     },
     "metadata": {},
     "output_type": "display_data"
    },
    {
     "name": "stdout",
     "output_type": "stream",
     "text": [
      "------------------------------------------------------\n",
      "Inferred types from first 100 line(s) of file as \n",
      "column_type_hints=[str,float,float,float,float,float,float,float,float,float,float,float,float,float,float,float,float,int,float,int,float,float]\n",
      "If parsing fails due to incorrect types, you can correct\n",
      "the inferred type list above and pass it to read_csv in\n",
      "the column_type_hints argument\n",
      "------------------------------------------------------\n"
     ]
    },
    {
     "data": {
      "text/html": [
       "<pre>Finished parsing file /home/raja/Desktop/Indian Education System/tutorial/regression_data.csv</pre>"
      ],
      "text/plain": [
       "Finished parsing file /home/raja/Desktop/Indian Education System/tutorial/regression_data.csv"
      ]
     },
     "metadata": {},
     "output_type": "display_data"
    },
    {
     "data": {
      "text/html": [
       "<pre>Parsing completed. Parsed 35 lines in 0.032308 secs.</pre>"
      ],
      "text/plain": [
       "Parsing completed. Parsed 35 lines in 0.032308 secs."
      ]
     },
     "metadata": {},
     "output_type": "display_data"
    }
   ],
   "source": [
    "data = gl.SFrame('regression_data.csv')"
   ]
  },
  {
   "cell_type": "code",
   "execution_count": 4,
   "metadata": {
    "collapsed": false
   },
   "outputs": [
    {
     "data": {
      "text/html": [
       "<pre>Linear regression:</pre>"
      ],
      "text/plain": [
       "Linear regression:"
      ]
     },
     "metadata": {},
     "output_type": "display_data"
    },
    {
     "data": {
      "text/html": [
       "<pre>--------------------------------------------------------</pre>"
      ],
      "text/plain": [
       "--------------------------------------------------------"
      ]
     },
     "metadata": {},
     "output_type": "display_data"
    },
    {
     "data": {
      "text/html": [
       "<pre>Number of examples          : 36</pre>"
      ],
      "text/plain": [
       "Number of examples          : 36"
      ]
     },
     "metadata": {},
     "output_type": "display_data"
    },
    {
     "data": {
      "text/html": [
       "<pre>Number of features          : 1</pre>"
      ],
      "text/plain": [
       "Number of features          : 1"
      ]
     },
     "metadata": {},
     "output_type": "display_data"
    },
    {
     "data": {
      "text/html": [
       "<pre>Number of unpacked features : 1</pre>"
      ],
      "text/plain": [
       "Number of unpacked features : 1"
      ]
     },
     "metadata": {},
     "output_type": "display_data"
    },
    {
     "data": {
      "text/html": [
       "<pre>Number of coefficients    : 2</pre>"
      ],
      "text/plain": [
       "Number of coefficients    : 2"
      ]
     },
     "metadata": {},
     "output_type": "display_data"
    },
    {
     "data": {
      "text/html": [
       "<pre>Starting Newton Method</pre>"
      ],
      "text/plain": [
       "Starting Newton Method"
      ]
     },
     "metadata": {},
     "output_type": "display_data"
    },
    {
     "data": {
      "text/html": [
       "<pre>--------------------------------------------------------</pre>"
      ],
      "text/plain": [
       "--------------------------------------------------------"
      ]
     },
     "metadata": {},
     "output_type": "display_data"
    },
    {
     "data": {
      "text/html": [
       "<pre>+-----------+----------+--------------+--------------------+---------------+</pre>"
      ],
      "text/plain": [
       "+-----------+----------+--------------+--------------------+---------------+"
      ]
     },
     "metadata": {},
     "output_type": "display_data"
    },
    {
     "data": {
      "text/html": [
       "<pre>| Iteration | Passes   | Elapsed Time | Training-max_error | Training-rmse |</pre>"
      ],
      "text/plain": [
       "| Iteration | Passes   | Elapsed Time | Training-max_error | Training-rmse |"
      ]
     },
     "metadata": {},
     "output_type": "display_data"
    },
    {
     "data": {
      "text/html": [
       "<pre>+-----------+----------+--------------+--------------------+---------------+</pre>"
      ],
      "text/plain": [
       "+-----------+----------+--------------+--------------------+---------------+"
      ]
     },
     "metadata": {},
     "output_type": "display_data"
    },
    {
     "data": {
      "text/html": [
       "<pre>| 1         | 2        | 1.000783     | 6.537940           | 2.576198      |</pre>"
      ],
      "text/plain": [
       "| 1         | 2        | 1.000783     | 6.537940           | 2.576198      |"
      ]
     },
     "metadata": {},
     "output_type": "display_data"
    },
    {
     "data": {
      "text/html": [
       "<pre>+-----------+----------+--------------+--------------------+---------------+</pre>"
      ],
      "text/plain": [
       "+-----------+----------+--------------+--------------------+---------------+"
      ]
     },
     "metadata": {},
     "output_type": "display_data"
    },
    {
     "data": {
      "text/html": [
       "<pre>SUCCESS: Optimal solution found.</pre>"
      ],
      "text/plain": [
       "SUCCESS: Optimal solution found."
      ]
     },
     "metadata": {},
     "output_type": "display_data"
    },
    {
     "data": {
      "text/html": [
       "<pre></pre>"
      ],
      "text/plain": []
     },
     "metadata": {},
     "output_type": "display_data"
    }
   ],
   "source": [
    "model = gl.linear_regression.create(data, target=\"GER\", features=[\"drinking water\",\"Functional Girls Toilets - All Schools 2012-13\",\"electricity \",\"Library - All Schools 2012-13\",\"CAL Facility : Upper Primary Schools - Sections 2012-13\",\"textbooks2012-13\",\"Middaymeal\",\"playground\",\"All Schools 2012-13 (Functional Computers)\",\"boundary walls\",\"Functional Boys Toilets - All Schools 2012-13\",\"hand-wash2012-13\",\"indoor kitchen 2012-13\",\"Boys Enrollment\",\"Trained Teachers percentage\",\"Dropout rates\"])"
   ]
  },
  {
   "cell_type": "code",
   "execution_count": 6,
   "metadata": {
    "collapsed": false
   },
   "outputs": [
    {
     "name": "stdout",
     "output_type": "stream",
     "text": [
      "+-------------------------------+-------+------------------+-----------------+\n",
      "|              name             | index |      value       |      stderr     |\n",
      "+-------------------------------+-------+------------------+-----------------+\n",
      "|          (intercept)          |  None |  50.6273828255   |  1.76956302941  |\n",
      "| Functional Girls Toilets -... |  None | -0.0357752141909 | 0.0233762866294 |\n",
      "+-------------------------------+-------+------------------+-----------------+\n",
      "[2 rows x 4 columns]\n",
      "\n"
     ]
    }
   ],
   "source": [
    "print model.coefficients"
   ]
  },
  {
   "cell_type": "code",
   "execution_count": 14,
   "metadata": {
    "collapsed": false
   },
   "outputs": [
    {
     "data": {
      "text/html": [
       "<pre>WARNING: The number of feature dimensions in this problem is very large in comparison with the number of examples. Unless an appropriate regularization value is set, this model may not provide accurate predictions for a validation/test set.</pre>"
      ],
      "text/plain": [
       "WARNING: The number of feature dimensions in this problem is very large in comparison with the number of examples. Unless an appropriate regularization value is set, this model may not provide accurate predictions for a validation/test set."
      ]
     },
     "metadata": {},
     "output_type": "display_data"
    },
    {
     "data": {
      "text/html": [
       "<pre>Linear regression:</pre>"
      ],
      "text/plain": [
       "Linear regression:"
      ]
     },
     "metadata": {},
     "output_type": "display_data"
    },
    {
     "data": {
      "text/html": [
       "<pre>--------------------------------------------------------</pre>"
      ],
      "text/plain": [
       "--------------------------------------------------------"
      ]
     },
     "metadata": {},
     "output_type": "display_data"
    },
    {
     "data": {
      "text/html": [
       "<pre>Number of examples          : 36</pre>"
      ],
      "text/plain": [
       "Number of examples          : 36"
      ]
     },
     "metadata": {},
     "output_type": "display_data"
    },
    {
     "data": {
      "text/html": [
       "<pre>Number of features          : 16</pre>"
      ],
      "text/plain": [
       "Number of features          : 16"
      ]
     },
     "metadata": {},
     "output_type": "display_data"
    },
    {
     "data": {
      "text/html": [
       "<pre>Number of unpacked features : 16</pre>"
      ],
      "text/plain": [
       "Number of unpacked features : 16"
      ]
     },
     "metadata": {},
     "output_type": "display_data"
    },
    {
     "data": {
      "text/html": [
       "<pre>Number of coefficients    : 147</pre>"
      ],
      "text/plain": [
       "Number of coefficients    : 147"
      ]
     },
     "metadata": {},
     "output_type": "display_data"
    },
    {
     "data": {
      "text/html": [
       "<pre>Starting Newton Method</pre>"
      ],
      "text/plain": [
       "Starting Newton Method"
      ]
     },
     "metadata": {},
     "output_type": "display_data"
    },
    {
     "data": {
      "text/html": [
       "<pre>--------------------------------------------------------</pre>"
      ],
      "text/plain": [
       "--------------------------------------------------------"
      ]
     },
     "metadata": {},
     "output_type": "display_data"
    },
    {
     "data": {
      "text/html": [
       "<pre>+-----------+----------+--------------+--------------------+---------------+</pre>"
      ],
      "text/plain": [
       "+-----------+----------+--------------+--------------------+---------------+"
      ]
     },
     "metadata": {},
     "output_type": "display_data"
    },
    {
     "data": {
      "text/html": [
       "<pre>| Iteration | Passes   | Elapsed Time | Training-max_error | Training-rmse |</pre>"
      ],
      "text/plain": [
       "| Iteration | Passes   | Elapsed Time | Training-max_error | Training-rmse |"
      ]
     },
     "metadata": {},
     "output_type": "display_data"
    },
    {
     "data": {
      "text/html": [
       "<pre>+-----------+----------+--------------+--------------------+---------------+</pre>"
      ],
      "text/plain": [
       "+-----------+----------+--------------+--------------------+---------------+"
      ]
     },
     "metadata": {},
     "output_type": "display_data"
    },
    {
     "data": {
      "text/html": [
       "<pre>| 1         | 2        | 0.003777     | 0.024264           | 0.004158      |</pre>"
      ],
      "text/plain": [
       "| 1         | 2        | 0.003777     | 0.024264           | 0.004158      |"
      ]
     },
     "metadata": {},
     "output_type": "display_data"
    },
    {
     "data": {
      "text/html": [
       "<pre>+-----------+----------+--------------+--------------------+---------------+</pre>"
      ],
      "text/plain": [
       "+-----------+----------+--------------+--------------------+---------------+"
      ]
     },
     "metadata": {},
     "output_type": "display_data"
    },
    {
     "data": {
      "text/html": [
       "<pre>SUCCESS: Optimal solution found.</pre>"
      ],
      "text/plain": [
       "SUCCESS: Optimal solution found."
      ]
     },
     "metadata": {},
     "output_type": "display_data"
    },
    {
     "data": {
      "text/html": [
       "<pre></pre>"
      ],
      "text/plain": []
     },
     "metadata": {},
     "output_type": "display_data"
    }
   ],
   "source": [
    "model_ger = gl.linear_regression.create(data, target=\"GER\", features=[\"drinking water\",\"Functional Girls Toilets - All Schools 2012-13\",\"electricity\",\"Library - All Schools 2012-13\",\"CAL Facility : Upper Primary Schools - Sections 2012-13\",\"textbooks2012-13\",\"Middaymeal\",\"playground\",\"All Schools 2012-13 (Functional Computers)\",\"boundary walls\",\"Functional Boys Toilets - All Schools 2012-13\",\"hand-wash2012-13\",\"indoor kitchen 2012-13\",\"Boys Enrollment\",\"Trained Teachers percentage\",\"Dropout rates\"])"
   ]
  },
  {
   "cell_type": "code",
   "execution_count": 77,
   "metadata": {
    "collapsed": false
   },
   "outputs": [
    {
     "data": {
      "text/html": [
       "<pre>Linear regression:</pre>"
      ],
      "text/plain": [
       "Linear regression:"
      ]
     },
     "metadata": {},
     "output_type": "display_data"
    },
    {
     "data": {
      "text/html": [
       "<pre>--------------------------------------------------------</pre>"
      ],
      "text/plain": [
       "--------------------------------------------------------"
      ]
     },
     "metadata": {},
     "output_type": "display_data"
    },
    {
     "data": {
      "text/html": [
       "<pre>Number of examples          : 35</pre>"
      ],
      "text/plain": [
       "Number of examples          : 35"
      ]
     },
     "metadata": {},
     "output_type": "display_data"
    },
    {
     "data": {
      "text/html": [
       "<pre>Number of features          : 11</pre>"
      ],
      "text/plain": [
       "Number of features          : 11"
      ]
     },
     "metadata": {},
     "output_type": "display_data"
    },
    {
     "data": {
      "text/html": [
       "<pre>Number of unpacked features : 11</pre>"
      ],
      "text/plain": [
       "Number of unpacked features : 11"
      ]
     },
     "metadata": {},
     "output_type": "display_data"
    },
    {
     "data": {
      "text/html": [
       "<pre>Number of coefficients    : 12</pre>"
      ],
      "text/plain": [
       "Number of coefficients    : 12"
      ]
     },
     "metadata": {},
     "output_type": "display_data"
    },
    {
     "data": {
      "text/html": [
       "<pre>Starting Newton Method</pre>"
      ],
      "text/plain": [
       "Starting Newton Method"
      ]
     },
     "metadata": {},
     "output_type": "display_data"
    },
    {
     "data": {
      "text/html": [
       "<pre>--------------------------------------------------------</pre>"
      ],
      "text/plain": [
       "--------------------------------------------------------"
      ]
     },
     "metadata": {},
     "output_type": "display_data"
    },
    {
     "data": {
      "text/html": [
       "<pre>+-----------+----------+--------------+--------------------+---------------+</pre>"
      ],
      "text/plain": [
       "+-----------+----------+--------------+--------------------+---------------+"
      ]
     },
     "metadata": {},
     "output_type": "display_data"
    },
    {
     "data": {
      "text/html": [
       "<pre>| Iteration | Passes   | Elapsed Time | Training-max_error | Training-rmse |</pre>"
      ],
      "text/plain": [
       "| Iteration | Passes   | Elapsed Time | Training-max_error | Training-rmse |"
      ]
     },
     "metadata": {},
     "output_type": "display_data"
    },
    {
     "data": {
      "text/html": [
       "<pre>+-----------+----------+--------------+--------------------+---------------+</pre>"
      ],
      "text/plain": [
       "+-----------+----------+--------------+--------------------+---------------+"
      ]
     },
     "metadata": {},
     "output_type": "display_data"
    },
    {
     "data": {
      "text/html": [
       "<pre>| 1         | 2        | 0.000950     | 17.893612          | 7.239290      |</pre>"
      ],
      "text/plain": [
       "| 1         | 2        | 0.000950     | 17.893612          | 7.239290      |"
      ]
     },
     "metadata": {},
     "output_type": "display_data"
    },
    {
     "data": {
      "text/html": [
       "<pre>+-----------+----------+--------------+--------------------+---------------+</pre>"
      ],
      "text/plain": [
       "+-----------+----------+--------------+--------------------+---------------+"
      ]
     },
     "metadata": {},
     "output_type": "display_data"
    },
    {
     "data": {
      "text/html": [
       "<pre>SUCCESS: Optimal solution found.</pre>"
      ],
      "text/plain": [
       "SUCCESS: Optimal solution found."
      ]
     },
     "metadata": {},
     "output_type": "display_data"
    },
    {
     "data": {
      "text/html": [
       "<pre></pre>"
      ],
      "text/plain": []
     },
     "metadata": {},
     "output_type": "display_data"
    }
   ],
   "source": [
    "model_ger = gl.linear_regression.create(data, target='GER', features=['All Schools 2012-13 (Functional Computers)','drinking water','electricity','Functional Girls Toilets - All Schools 2012-13','Library - All Schools 2012-13','CAL Facility : Upper Primary Schools - Sections 2012-13','textbooks2012-13','Middaymeal','playground','Functional Boys Toilets - All Schools 2012-13','Trained Teachers percentage'])"
   ]
  },
  {
   "cell_type": "code",
   "execution_count": 78,
   "metadata": {
    "collapsed": false
   },
   "outputs": [
    {
     "name": "stdout",
     "output_type": "stream",
     "text": [
      "+-------------------------------+-------+-------------------+-----------------+\n",
      "|              name             | index |       value       |      stderr     |\n",
      "+-------------------------------+-------+-------------------+-----------------+\n",
      "|          (intercept)          |  None |   66.3253400813   |   47.706195283  |\n",
      "| All Schools 2012-13 (Funct... |  None |   0.342586696648  |  0.234333582641 |\n",
      "|         drinking water        |  None |  0.0907554074785  |  0.35298396125  |\n",
      "|          electricity          |  None |  0.00312860464229 |  0.120727083378 |\n",
      "| Functional Girls Toilets -... |  None |  -0.111429011221  |  0.132072315236 |\n",
      "| Library - All Schools 2012-13 |  None | -0.00546240608116 |  0.13077609165  |\n",
      "| CAL Facility : Upper Prima... |  None |  -0.0324485863064 |  0.136291258149 |\n",
      "|        textbooks2012-13       |  None |  -0.752376283357  |  0.328211077251 |\n",
      "|           Middaymeal          |  None |   0.436458055521  |  0.562985574028 |\n",
      "|           playground          |  None |  0.0333841367647  |  0.131015001655 |\n",
      "| Functional Boys Toilets - ... |  None |   0.191705035908  |  0.33648806388  |\n",
      "|  Trained Teachers percentage  |  None |  0.0887941035051  | 0.0971889659506 |\n",
      "+-------------------------------+-------+-------------------+-----------------+\n",
      "[12 rows x 4 columns]\n",
      "\n",
      "None\n"
     ]
    }
   ],
   "source": [
    "print model_ger.coefficients.print_rows(20,20)"
   ]
  },
  {
   "cell_type": "code",
   "execution_count": 85,
   "metadata": {
    "collapsed": false
   },
   "outputs": [
    {
     "data": {
      "text/html": [
       "<pre>Linear regression:</pre>"
      ],
      "text/plain": [
       "Linear regression:"
      ]
     },
     "metadata": {},
     "output_type": "display_data"
    },
    {
     "data": {
      "text/html": [
       "<pre>--------------------------------------------------------</pre>"
      ],
      "text/plain": [
       "--------------------------------------------------------"
      ]
     },
     "metadata": {},
     "output_type": "display_data"
    },
    {
     "data": {
      "text/html": [
       "<pre>Number of examples          : 35</pre>"
      ],
      "text/plain": [
       "Number of examples          : 35"
      ]
     },
     "metadata": {},
     "output_type": "display_data"
    },
    {
     "data": {
      "text/html": [
       "<pre>Number of features          : 12</pre>"
      ],
      "text/plain": [
       "Number of features          : 12"
      ]
     },
     "metadata": {},
     "output_type": "display_data"
    },
    {
     "data": {
      "text/html": [
       "<pre>Number of unpacked features : 12</pre>"
      ],
      "text/plain": [
       "Number of unpacked features : 12"
      ]
     },
     "metadata": {},
     "output_type": "display_data"
    },
    {
     "data": {
      "text/html": [
       "<pre>Number of coefficients    : 13</pre>"
      ],
      "text/plain": [
       "Number of coefficients    : 13"
      ]
     },
     "metadata": {},
     "output_type": "display_data"
    },
    {
     "data": {
      "text/html": [
       "<pre>Starting Newton Method</pre>"
      ],
      "text/plain": [
       "Starting Newton Method"
      ]
     },
     "metadata": {},
     "output_type": "display_data"
    },
    {
     "data": {
      "text/html": [
       "<pre>--------------------------------------------------------</pre>"
      ],
      "text/plain": [
       "--------------------------------------------------------"
      ]
     },
     "metadata": {},
     "output_type": "display_data"
    },
    {
     "data": {
      "text/html": [
       "<pre>+-----------+----------+--------------+--------------------+---------------+</pre>"
      ],
      "text/plain": [
       "+-----------+----------+--------------+--------------------+---------------+"
      ]
     },
     "metadata": {},
     "output_type": "display_data"
    },
    {
     "data": {
      "text/html": [
       "<pre>| Iteration | Passes   | Elapsed Time | Training-max_error | Training-rmse |</pre>"
      ],
      "text/plain": [
       "| Iteration | Passes   | Elapsed Time | Training-max_error | Training-rmse |"
      ]
     },
     "metadata": {},
     "output_type": "display_data"
    },
    {
     "data": {
      "text/html": [
       "<pre>+-----------+----------+--------------+--------------------+---------------+</pre>"
      ],
      "text/plain": [
       "+-----------+----------+--------------+--------------------+---------------+"
      ]
     },
     "metadata": {},
     "output_type": "display_data"
    },
    {
     "data": {
      "text/html": [
       "<pre>| 1         | 2        | 0.054806     | 37.107225          | 15.626431     |</pre>"
      ],
      "text/plain": [
       "| 1         | 2        | 0.054806     | 37.107225          | 15.626431     |"
      ]
     },
     "metadata": {},
     "output_type": "display_data"
    },
    {
     "data": {
      "text/html": [
       "<pre>+-----------+----------+--------------+--------------------+---------------+</pre>"
      ],
      "text/plain": [
       "+-----------+----------+--------------+--------------------+---------------+"
      ]
     },
     "metadata": {},
     "output_type": "display_data"
    },
    {
     "data": {
      "text/html": [
       "<pre>SUCCESS: Optimal solution found.</pre>"
      ],
      "text/plain": [
       "SUCCESS: Optimal solution found."
      ]
     },
     "metadata": {},
     "output_type": "display_data"
    },
    {
     "data": {
      "text/html": [
       "<pre></pre>"
      ],
      "text/plain": []
     },
     "metadata": {},
     "output_type": "display_data"
    }
   ],
   "source": [
    "model_drop = gl.linear_regression.create(data, target='Dropout rates', features=['All Schools 2012-13 (Functional Computers)','drinking water','electricity','Functional Girls Toilets - All Schools 2012-13','Library - All Schools 2012-13','CAL Facility : Upper Primary Schools - Sections 2012-13','textbooks2012-13','Middaymeal','playground','boundary walls','Functional Boys Toilets - All Schools 2012-13','Trained Teachers percentage'])"
   ]
  },
  {
   "cell_type": "code",
   "execution_count": 86,
   "metadata": {
    "collapsed": false
   },
   "outputs": [
    {
     "name": "stdout",
     "output_type": "stream",
     "text": [
      "+-------------------------------+-------+------------------+----------------+\n",
      "|              name             | index |      value       |     stderr     |\n",
      "+-------------------------------+-------+------------------+----------------+\n",
      "|          (intercept)          |  None |  43.5433799669   | 105.354650128  |\n",
      "| All Schools 2012-13 (Funct... |  None | -0.093545440883  | 0.527094649517 |\n",
      "|         drinking water        |  None |  -0.22408095963  | 0.790995673631 |\n",
      "|          electricity          |  None | -0.0308328612066 | 0.266825978631 |\n",
      "| Functional Girls Toilets -... |  None | -0.118831489068  | 0.292971897228 |\n",
      "| Library - All Schools 2012-13 |  None | -0.0394307584937 | 0.30564102391  |\n",
      "| CAL Facility : Upper Prima... |  None | -0.184669255442  | 0.323407168501 |\n",
      "|        textbooks2012-13       |  None |  1.15061617048   | 0.724597400809 |\n",
      "|           Middaymeal          |  None | -0.189878661994  | 1.24299735202  |\n",
      "|           playground          |  None |  0.119587832053  | 0.299307848448 |\n",
      "|         boundary walls        |  None |  0.337246733025  | 0.291279021489 |\n",
      "| Functional Boys Toilets - ... |  None | -0.362970584923  | 0.806994569624 |\n",
      "|  Trained Teachers percentage  |  None | -0.267324246869  | 0.219731318716 |\n",
      "+-------------------------------+-------+------------------+----------------+\n",
      "[13 rows x 4 columns]\n",
      "\n",
      "None\n"
     ]
    }
   ],
   "source": [
    "print model_drop.coefficients.print_rows(20,20)"
   ]
  },
  {
   "cell_type": "code",
   "execution_count": 87,
   "metadata": {
    "collapsed": false
   },
   "outputs": [
    {
     "name": "stdout",
     "output_type": "stream",
     "text": [
      "+-------------------------------+-------+------------------+----------------+\n",
      "|              name             | index |      value       |     stderr     |\n",
      "+-------------------------------+-------+------------------+----------------+\n",
      "|          (intercept)          |  None |  43.5433799669   | 105.354650128  |\n",
      "| All Schools 2012-13 (Funct... |  None | -0.093545440883  | 0.527094649517 |\n",
      "|         drinking water        |  None |  -0.22408095963  | 0.790995673631 |\n",
      "|          electricity          |  None | -0.0308328612066 | 0.266825978631 |\n",
      "| Functional Girls Toilets -... |  None | -0.118831489068  | 0.292971897228 |\n",
      "| Library - All Schools 2012-13 |  None | -0.0394307584937 | 0.30564102391  |\n",
      "| CAL Facility : Upper Prima... |  None | -0.184669255442  | 0.323407168501 |\n",
      "|        textbooks2012-13       |  None |  1.15061617048   | 0.724597400809 |\n",
      "|           Middaymeal          |  None | -0.189878661994  | 1.24299735202  |\n",
      "|           playground          |  None |  0.119587832053  | 0.299307848448 |\n",
      "|         boundary walls        |  None |  0.337246733025  | 0.291279021489 |\n",
      "| Functional Boys Toilets - ... |  None | -0.362970584923  | 0.806994569624 |\n",
      "|  Trained Teachers percentage  |  None | -0.267324246869  | 0.219731318716 |\n",
      "+-------------------------------+-------+------------------+----------------+\n",
      "[13 rows x 4 columns]\n",
      "\n",
      "None\n"
     ]
    }
   ],
   "source": [
    "print model_drop.coefficients.print_rows(20,20)"
   ]
  },
  {
   "cell_type": "code",
   "execution_count": 88,
   "metadata": {
    "collapsed": false
   },
   "outputs": [
    {
     "name": "stdout",
     "output_type": "stream",
     "text": [
      "Canvas is accessible via web browser at the URL: http://localhost:45439/index.html\n",
      "Opening Canvas in default web browser.\n"
     ]
    }
   ],
   "source": [
    "data.show()"
   ]
  },
  {
   "cell_type": "code",
   "execution_count": null,
   "metadata": {
    "collapsed": true
   },
   "outputs": [],
   "source": []
  }
 ],
 "metadata": {
  "anaconda-cloud": {},
  "kernelspec": {
   "display_name": "Python [default]",
   "language": "python",
   "name": "python2"
  },
  "language_info": {
   "codemirror_mode": {
    "name": "ipython",
    "version": 2
   },
   "file_extension": ".py",
   "mimetype": "text/x-python",
   "name": "python",
   "nbconvert_exporter": "python",
   "pygments_lexer": "ipython2",
   "version": "2.7.12"
  }
 },
 "nbformat": 4,
 "nbformat_minor": 1
}
